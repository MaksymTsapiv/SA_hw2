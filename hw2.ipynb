{
 "cells": [
  {
   "cell_type": "markdown",
   "source": [
    "# HOMEWORK 2: SPATIAL MODELS, AGGREGATION\n",
    "## Author: Maksym Tsapiv\n",
    "## Variant: 3"
   ],
   "metadata": {
    "collapsed": false
   }
  },
  {
   "cell_type": "markdown",
   "source": [
    "## Exercise 1\n",
    "\n",
    "### Part 1"
   ],
   "metadata": {
    "collapsed": false
   }
  },
  {
   "cell_type": "markdown",
   "source": [
    "I made a NetLogo project and implemented first part of Excise 1 (hw2_1.nlogo) and here are the results:"
   ],
   "metadata": {
    "collapsed": false
   }
  },
  {
   "cell_type": "markdown",
   "source": [
    "## Initial setup\n",
    "![0](img/SA_hw2_0.png)\n",
    "## After 100 ticks\n",
    "![1](img/SA_hw2_1.png)\n"
   ],
   "metadata": {
    "collapsed": false
   }
  },
  {
   "cell_type": "markdown",
   "source": [
    "### How can you explain the distribution of c levels?\n",
    "After the initial setup the values are uniformly distributed from 0 to 1 as it was coded explicitly, but after 100 ticks distribution became normal because after only 100 ticks values that are high relative to neighbouring values are dragged down by this averaging process, while values low relative to neighbouring values are pulled up and that's why a lot of values happen to be somewhere in the middle, that is making normal distribution.\n",
    "\n",
    "### How it will evolve with time?\n",
    "Depending on the `w` c-values distributions were either somewhere in the middle between normal and uniform or converge to a uniform distribution very fast.\n",
    "\n",
    "## Low weight\n",
    "![2](img/SA_hw2_2.png)\n",
    "\n",
    "## High weight\n",
    "![4](img/SA_hw2_4.png)\n",
    "\n",
    "### Can you estimate the final distribution?\n",
    "\n",
    "Local averaging provides a model of the uniform distribution because the averaging guarantees that the total $\\sum(c)$  across the whole model remains constant.\n",
    "\n",
    "### Now perform several simulations. Do you have another answer now?\n",
    "\n",
    "No, as I said before distribution should be uniform, and weight only changes the time how fast the model will converge to uniform distribution."
   ],
   "metadata": {
    "collapsed": false
   }
  },
  {
   "cell_type": "markdown",
   "source": [
    "### Part 2"
   ],
   "metadata": {
    "collapsed": false
   }
  },
  {
   "cell_type": "markdown",
   "source": [
    "### What is stable distribution after a long time? Estimate its type.\n",
    "Depending on `w` after a long run distribution either became uniform or reminded something like gamma distribution.\n",
    "## Uniform (high w)\n",
    "![3](img/SA_hw2_3.png)\n",
    "## Gamma (low w)\n",
    "![5](img/SA_hw2_5.png)\n",
    "\n",
    "### What is the influence of parameter w?\n",
    "\n",
    "Again if `w` is low enough the distribution reminds Gamma distribution but if it's high it still converges to uniform.\n",
    "\n",
    "### If we remove rescaling, how will it affect the model behavior?\n",
    "\n",
    "If `w` is not 1 world becomes purly white and very fast, but if `w` == 1, then world becomes fully gray.\n",
    "\n",
    "## W != 1\n",
    "![7](img/SA_hw2_7.png)\n",
    "\n",
    "## W == 1\n",
    "![6](img/SA_hw2_6.png)"
   ],
   "metadata": {
    "collapsed": false
   }
  },
  {
   "cell_type": "markdown",
   "source": [
    "## Exersice 2"
   ],
   "metadata": {
    "collapsed": false
   }
  },
  {
   "cell_type": "markdown",
   "source": [
    "In exersice 2 (hw2_2.nlogo) I added noise and threshold lock of patches, and made a few runs for each threshold value and for different noise values from 0 to 1.\n",
    "\n",
    "## Threshold == 0.5\n",
    "![8](img/SA_hw2_8.png)\n",
    "Here each increment to noise made the rise of the number of black patches steeper and steeper. For noise values from 0 to 0.2 number of black patches was 0.\n",
    "\n",
    "\n",
    "## Threshold == 1.0\n",
    "![9](img/SA_hw2_9.png)\n",
    "Here the situation did not change much, but we already see that the rise is not that steep. For noise values from 0 to 0.4 number of black patches was 0.\n",
    "\n",
    "## Threshold == 1.5\n",
    "![10](img/SA_hw2_10.png)\n",
    "Here we see only two cases where number of black patches was increasing, for the noise == 0.9 and noise == 1. The increase itself isn't rapid at all.\n",
    "\n",
    "## Threshold == 2.0, 2.5, 3.0\n",
    "![11](img/SA_hw2_11.png)\n",
    "After the Threshold value went up to 2.0 and more, number of black patches was constant 0.\n"
   ],
   "metadata": {
    "collapsed": false
   }
  },
  {
   "cell_type": "markdown",
   "source": [
    "## Exersice 3"
   ],
   "metadata": {
    "collapsed": false
   }
  },
  {
   "cell_type": "markdown",
   "source": [
    "In Exersice 3 (hw2_3.nlogo) I added a survival mechanic into model depending on $\\delta$, where $\\delta$ is a chance for patch to die."
   ],
   "metadata": {
    "collapsed": false
   }
  },
  {
   "cell_type": "markdown",
   "source": [
    "## Every delta on plot\n",
    "![12](img/SA_hw2_12.png)\n",
    "\n",
    "So, there is not any wonder that the bigger the delta the lower the population. That is not the only question though: which $\\delta$ is enough for the system not to eventually die out.\n",
    "\n",
    "As the experimenting shows, $\\delta == 0.7$ is living long but dies out anyway.\n",
    "\n",
    "## Delta == 0.7\n",
    "![13](img/SA_hw2_13.png)\n",
    "\n",
    "But $\\delta == 0.6$ indeed is a stable state and no matter how long the experiment will go the life will still exist.\n",
    "\n",
    "## Delta == 0.6\n",
    "![14](img/SA_hw2_14.png)\n"
   ],
   "metadata": {
    "collapsed": false
   }
  }
 ],
 "metadata": {
  "kernelspec": {
   "display_name": "Python 3",
   "language": "python",
   "name": "python3"
  },
  "language_info": {
   "codemirror_mode": {
    "name": "ipython",
    "version": 2
   },
   "file_extension": ".py",
   "mimetype": "text/x-python",
   "name": "python",
   "nbconvert_exporter": "python",
   "pygments_lexer": "ipython2",
   "version": "2.7.6"
  }
 },
 "nbformat": 4,
 "nbformat_minor": 0
}
